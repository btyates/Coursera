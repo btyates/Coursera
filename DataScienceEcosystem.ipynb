{
 "cells": [
  {
   "cell_type": "markdown",
   "id": "ad7b9705-8eb8-47f1-bfc1-c0d48e9cfb79",
   "metadata": {
    "tags": []
   },
   "source": [
    "# Data Science Tools and Ecosystem"
   ]
  },
  {
   "cell_type": "markdown",
   "id": "1fbe66b4-c0b2-40ad-8f9a-21bb6f3f683c",
   "metadata": {},
   "source": [
    "In this notebook, Data Science Tools and Ecosystem are summarized."
   ]
  },
  {
   "cell_type": "markdown",
   "id": "dc2bb710-e5be-491c-bb8d-f6bba6d80822",
   "metadata": {},
   "source": [
    "Some of the popular languages that Data Scientists use are:\n",
    "1. python\n",
    "2. R\n",
    "3. SQL"
   ]
  },
  {
   "cell_type": "markdown",
   "id": "8fc410f1-250c-40a0-81a2-2db7ed60c87b",
   "metadata": {},
   "source": [
    "Some of the commonly used libraries used by Data Scientists include:\n",
    "1. pandas\n",
    "2. numpy\n",
    "3. matplotlib"
   ]
  },
  {
   "cell_type": "markdown",
   "id": "326584ca-4831-4641-8cee-8a3c74dafc65",
   "metadata": {},
   "source": [
    "|Data Science Tools|\n",
    "--------------------\n",
    "|RStudio|\n",
    "|Jupyter Notebook|\n",
    "|PyTorch|\n"
   ]
  },
  {
   "cell_type": "markdown",
   "id": "4dff240b-d61b-4fac-bb7e-d6a087275ec3",
   "metadata": {},
   "source": [
    "### Below are a few examples of evaluating arithmetic expressions in Python"
   ]
  },
  {
   "cell_type": "code",
   "execution_count": 5,
   "id": "3faad88c-806e-4f07-9b1a-58bc919a1c0f",
   "metadata": {
    "tags": []
   },
   "outputs": [
    {
     "data": {
      "text/plain": [
       "17"
      ]
     },
     "execution_count": 5,
     "metadata": {},
     "output_type": "execute_result"
    }
   ],
   "source": [
    "# This is a simple arithmetic expression to multiple then add integers\n",
    "(3*4) + 5"
   ]
  },
  {
   "cell_type": "code",
   "execution_count": 11,
   "id": "a86297aa-5284-4b8f-970a-a8cb3ad88904",
   "metadata": {
    "tags": []
   },
   "outputs": [
    {
     "name": "stdout",
     "output_type": "stream",
     "text": [
      "3.3333333333333335\n",
      "3.33\n"
     ]
    }
   ],
   "source": [
    "# This will convert 200 minutes to hours by dividing by 60\n",
    "minutes = 200\n",
    "minperhr = 60\n",
    "hours = minutes / minperhr\n",
    "print(hours)\n",
    "# Now apply the round function to clean up the answer\n",
    "hoursRounded = round(hours, 2)\n",
    "print(hoursRounded)"
   ]
  },
  {
   "cell_type": "markdown",
   "id": "9b9221d8-5322-42e4-9507-46ac09e21c24",
   "metadata": {},
   "source": [
    "**Objectives:**\n",
    "- List populate languages for Data Science\n",
    "- List common libraries for Data Science\n",
    "- List Data Science Tools"
   ]
  },
  {
   "cell_type": "markdown",
   "id": "bf1c65fe-4131-419e-ab6e-4aefddea5f47",
   "metadata": {},
   "source": [
    "## Author\n",
    "Brandon Yates"
   ]
  },
  {
   "cell_type": "code",
   "execution_count": null,
   "id": "77f71901-2600-4aa3-9b60-107ca28bcfe6",
   "metadata": {},
   "outputs": [],
   "source": []
  }
 ],
 "metadata": {
  "kernelspec": {
   "display_name": "Python",
   "language": "python",
   "name": "conda-env-python-py"
  },
  "language_info": {
   "codemirror_mode": {
    "name": "ipython",
    "version": 3
   },
   "file_extension": ".py",
   "mimetype": "text/x-python",
   "name": "python",
   "nbconvert_exporter": "python",
   "pygments_lexer": "ipython3",
   "version": "3.7.12"
  }
 },
 "nbformat": 4,
 "nbformat_minor": 5
}
